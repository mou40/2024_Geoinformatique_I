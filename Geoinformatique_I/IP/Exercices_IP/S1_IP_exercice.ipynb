{
  "cells": [
    {
      "cell_type": "markdown",
      "metadata": {
        "id": "view-in-github",
        "colab_type": "text"
      },
      "source": [
        "<a href=\"https://colab.research.google.com/github/mou40/2024_Geoinformatique_I/blob/main/Geoinformatique_I/IP/Exercices_IP/S1_IP_exercice.ipynb\" target=\"_parent\"><img src=\"https://colab.research.google.com/assets/colab-badge.svg\" alt=\"Open In Colab\"/></a>"
      ]
    },
    {
      "cell_type": "markdown",
      "metadata": {
        "id": "a4H9Gb41nLo-"
      },
      "source": [
        "## Exercice 1 - Introduction aux bases de la programmation"
      ]
    },
    {
      "cell_type": "markdown",
      "metadata": {
        "id": "G79m62HcnLo_"
      },
      "source": [
        "### Premier code de Python :\n",
        "\n",
        "Utiliser la fonction \"print()\" pour afficher le texte \"Hello world\"."
      ]
    },
    {
      "cell_type": "code",
      "execution_count": 1,
      "metadata": {
        "id": "6acDX_-_nLpC",
        "colab": {
          "base_uri": "https://localhost:8080/"
        },
        "outputId": "0735224f-b780-419d-e85b-acedf8aa9484"
      },
      "outputs": [
        {
          "output_type": "stream",
          "name": "stdout",
          "text": [
            "_hello world____\n"
          ]
        }
      ],
      "source": [
        "# Premier script : \"Hello world\"\n",
        "print(\"_hello world____\")"
      ]
    },
    {
      "cell_type": "markdown",
      "metadata": {
        "id": "u8mSrLqxnLpE"
      },
      "source": [
        "### Variables et types de données :\n"
      ]
    },
    {
      "cell_type": "code",
      "execution_count": 2,
      "metadata": {
        "id": "QBu-r7EFnLpF"
      },
      "outputs": [],
      "source": [
        "# Initialiser des données\n",
        "\n",
        "x = 123    # Remplacer par une valeur entière (integer)\n",
        "y = 40.2    # Remplacer par une valeur décimale (float)\n",
        "z = \"Python\"  # Remplacer par une chaîne de caractères. Par exemple \"Python\""
      ]
    },
    {
      "cell_type": "markdown",
      "metadata": {
        "id": "PJc99DALnLpG"
      },
      "source": [
        "Maintenant vérifions le type de ces variables à l'aide de la fonction \"type()\""
      ]
    },
    {
      "cell_type": "code",
      "execution_count": 3,
      "metadata": {
        "id": "WDrvtjv2nLpG",
        "colab": {
          "base_uri": "https://localhost:8080/"
        },
        "outputId": "212c0f85-e82d-47ed-98c0-d66123be242b"
      },
      "outputs": [
        {
          "output_type": "stream",
          "name": "stdout",
          "text": [
            "<class 'int'>\n",
            "<class 'float'>\n",
            "<class 'str'>\n"
          ]
        }
      ],
      "source": [
        "# Comment vérifier le type ?\n",
        "print(type(x))  # Affiche le type de x\n",
        "print(type(y))  # Affiche le type de y\n",
        "print(type(z))  # Affiche le type de z"
      ]
    },
    {
      "cell_type": "markdown",
      "metadata": {
        "id": "T1V0f27onLpH"
      },
      "source": [
        "### Opérations arithmétiques :"
      ]
    },
    {
      "cell_type": "code",
      "execution_count": 4,
      "metadata": {
        "id": "iXXDA3-JnLpI"
      },
      "outputs": [],
      "source": [
        "a = 20  # Remplacer par une valeur entière\n",
        "b = 40  # Remplacer par une valeur entière"
      ]
    },
    {
      "cell_type": "code",
      "execution_count": 5,
      "metadata": {
        "id": "Is2kTg-7nLpI"
      },
      "outputs": [],
      "source": [
        "# Opérations arithmétiques\n",
        "addition = a + b  # Calcul de l'addition\n",
        "soustraction = a-b  # Calcul de la soustraction entre a et b\n",
        "multiplication = a*b  # Calcul de la multiplication entre a et b\n",
        "division = a/b  # Calcul de la division de a par b"
      ]
    },
    {
      "cell_type": "code",
      "execution_count": 6,
      "metadata": {
        "id": "n7_BQYBanLpJ",
        "colab": {
          "base_uri": "https://localhost:8080/"
        },
        "outputId": "906d0c95-2821-46a1-9882-08b6fdb38a62"
      },
      "outputs": [
        {
          "output_type": "stream",
          "name": "stdout",
          "text": [
            "Addition: 60\n",
            "Soustraction: -20\n",
            "Multiplication: 800\n",
            "Division: 0.5\n"
          ]
        }
      ],
      "source": [
        "# Afficher les résultats\n",
        "print(\"Addition:\", addition)\n",
        "print(\"Soustraction:\", soustraction)\n",
        "print(\"Multiplication:\",multiplication )\n",
        "print(\"Division:\", division)\n"
      ]
    },
    {
      "cell_type": "markdown",
      "metadata": {
        "id": "VXsb00dpnLpJ"
      },
      "source": [
        "### Calcul d'émissions de CO2 :"
      ]
    },
    {
      "cell_type": "code",
      "execution_count": 7,
      "metadata": {
        "id": "o-v8FPXOnLpJ"
      },
      "outputs": [],
      "source": [
        "# Données\n",
        "distance_km = 20  # Distance parcourue en kilomètres\n",
        "consommation_essence_litres_km = 14  # Consommation d'essence en litres par km"
      ]
    },
    {
      "cell_type": "code",
      "execution_count": 11,
      "metadata": {
        "id": "WvCqQV44nLpK"
      },
      "outputs": [],
      "source": [
        "# Calcul des émissions de CO2 en kilogrammes\n",
        "# Le facteur 2,3 est une estimation générale de la quantité de dioxyde de carbone (CO2) émise en kilogrammes par litre de carburant brûlé.\n",
        "# Il est utilisé pour convertir la consommation d'essence en émissions de CO2.\n",
        "emissions_CO2_kg = (20 * 14) * 2.3"
      ]
    },
    {
      "cell_type": "code",
      "execution_count": 12,
      "metadata": {
        "id": "bGnGt39ynLpK",
        "colab": {
          "base_uri": "https://localhost:8080/"
        },
        "outputId": "ae0db056-9389-45bd-9617-09ee91da2123"
      },
      "outputs": [
        {
          "output_type": "stream",
          "name": "stdout",
          "text": [
            "Les émissions de CO2 pour 20 km parcourus sont de 2.3 grammes.\n"
          ]
        }
      ],
      "source": [
        "# Afficher le résultat\n",
        "print(\"Les émissions de CO2 pour\", 20 , \"km parcourus sont de\", 2.3, \"grammes.\")"
      ]
    },
    {
      "cell_type": "markdown",
      "metadata": {
        "id": "q-bZszADnLpK"
      },
      "source": [
        "### Calcul de la consommation d'énergie"
      ]
    },
    {
      "cell_type": "code",
      "execution_count": 14,
      "metadata": {
        "id": "XtXC6cGUnLpK"
      },
      "outputs": [],
      "source": [
        "# Données\n",
        "puissance_appareil = 180  # Puissance de l'appareil en watts\n",
        "temps_utilisation_heures = 10  # Temps d'utilisation en heures par jour"
      ]
    },
    {
      "cell_type": "code",
      "execution_count": 15,
      "metadata": {
        "id": "_V2F75BWnLpL"
      },
      "outputs": [],
      "source": [
        "# Calcul de la consommation d'énergie quotidienne en kilowatt-heures (kWh)\n",
        "# La division par 1000 est nécessaire pour convertir la puissance de l'appareil (exprimée en watts) en kilowatts,\n",
        "# car 1 kilowatt équivaut à 1000 watts.\n",
        "consommation_quotidienne_kWh = (180 * 10) / 1000"
      ]
    },
    {
      "cell_type": "code",
      "execution_count": 16,
      "metadata": {
        "id": "gbXyVo-ZnLpL",
        "colab": {
          "base_uri": "https://localhost:8080/"
        },
        "outputId": "7871a66b-56a7-473f-f1f2-ed3bc0853608"
      },
      "outputs": [
        {
          "output_type": "stream",
          "name": "stdout",
          "text": [
            "La consommation d'énergie quotidienne de l'appareil est de 1.8 kWh.\n"
          ]
        }
      ],
      "source": [
        "# Afficher le résultat\n",
        "print(\"La consommation d'énergie quotidienne de l'appareil est de\", (180*10)/ 1000, \"kWh.\")"
      ]
    },
    {
      "cell_type": "code",
      "source": [],
      "metadata": {
        "id": "NI2Rb92atGLZ"
      },
      "execution_count": null,
      "outputs": []
    }
  ],
  "metadata": {
    "colab": {
      "provenance": [],
      "include_colab_link": true
    },
    "language_info": {
      "name": "python"
    },
    "kernelspec": {
      "name": "python3",
      "display_name": "Python 3"
    }
  },
  "nbformat": 4,
  "nbformat_minor": 0
}